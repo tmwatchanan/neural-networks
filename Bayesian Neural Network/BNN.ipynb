{
 "cells": [
  {
   "cell_type": "code",
   "execution_count": 1,
   "id": "extra-intelligence",
   "metadata": {},
   "outputs": [
    {
     "data": {
      "text/plain": [
       "<torch._C.Generator at 0x18684d16bb0>"
      ]
     },
     "execution_count": 1,
     "metadata": {},
     "output_type": "execute_result"
    }
   ],
   "source": [
    "import os\n",
    "import matplotlib.pyplot as plt\n",
    "\n",
    "from torch.utils.data import DataLoader\n",
    "from torchvision import datasets, transforms\n",
    "\n",
    "import torch\n",
    "from torch import nn\n",
    "\n",
    "torch.manual_seed(8770)"
   ]
  },
  {
   "cell_type": "markdown",
   "id": "designing-timeline",
   "metadata": {},
   "source": [
    "## Cats vs. Dogs Dataset\n",
    "https://www.kaggle.com/c/dogs-vs-cats/overview"
   ]
  },
  {
   "cell_type": "code",
   "execution_count": 2,
   "id": "brutal-straight",
   "metadata": {},
   "outputs": [],
   "source": [
    "data_dir = os.path.join('data', 'cats_vs_dogs')\n",
    "class_names = ('cat', 'dog')"
   ]
  },
  {
   "cell_type": "code",
   "execution_count": 3,
   "id": "harmful-colorado",
   "metadata": {},
   "outputs": [],
   "source": [
    "config = {\n",
    "    'batch_size': 1\n",
    "}"
   ]
  },
  {
   "cell_type": "code",
   "execution_count": 4,
   "id": "adjacent-liabilities",
   "metadata": {},
   "outputs": [],
   "source": [
    "transform = transforms.Compose([\n",
    "    transforms.Resize((128, 128)),\n",
    "#     transforms.CenterCrop(128),\n",
    "    transforms.ToTensor(),\n",
    "    transforms.Normalize(mean=[0.485, 0.456, 0.406], std=[0.229, 0.224, 0.225])\n",
    "])"
   ]
  },
  {
   "cell_type": "code",
   "execution_count": 5,
   "id": "stuffed-davis",
   "metadata": {},
   "outputs": [
    {
     "data": {
      "text/plain": [
       "(Dataset ImageFolder\n",
       "     Number of datapoints: 20000\n",
       "     Root location: data\\cats_vs_dogs\\train\n",
       "     StandardTransform\n",
       " Transform: Compose(\n",
       "                Resize(size=(128, 128), interpolation=PIL.Image.BILINEAR)\n",
       "                ToTensor()\n",
       "                Normalize(mean=[0.485, 0.456, 0.406], std=[0.229, 0.224, 0.225])\n",
       "            ),\n",
       " Dataset ImageFolder\n",
       "     Number of datapoints: 5000\n",
       "     Root location: data\\cats_vs_dogs\\test\n",
       "     StandardTransform\n",
       " Transform: Compose(\n",
       "                Resize(size=(128, 128), interpolation=PIL.Image.BILINEAR)\n",
       "                ToTensor()\n",
       "                Normalize(mean=[0.485, 0.456, 0.406], std=[0.229, 0.224, 0.225])\n",
       "            ))"
      ]
     },
     "execution_count": 5,
     "metadata": {},
     "output_type": "execute_result"
    }
   ],
   "source": [
    "train_path = os.path.join(data_dir, 'train')\n",
    "train_dataset = datasets.ImageFolder(train_path, transform=transform)\n",
    "train_data_loader = DataLoader(train_dataset, batch_size=config['batch_size'], shuffle=False)\n",
    "\n",
    "test_path = os.path.join(data_dir, 'test')\n",
    "test_dataset = datasets.ImageFolder(test_path, transform=transform)\n",
    "test_data_loader = DataLoader(test_dataset, batch_size=config['batch_size'], shuffle=True)\n",
    "\n",
    "train_dataset, test_dataset"
   ]
  },
  {
   "cell_type": "code",
   "execution_count": 6,
   "id": "touched-picking",
   "metadata": {},
   "outputs": [
    {
     "name": "stdout",
     "output_type": "stream",
     "text": [
      "torch.Size([1, 3, 128, 128]) torch.Size([1])\n"
     ]
    }
   ],
   "source": [
    "for step, (X, Y) in enumerate(train_data_loader):\n",
    "    print(X.shape, Y.shape)\n",
    "    break"
   ]
  },
  {
   "cell_type": "code",
   "execution_count": null,
   "id": "understanding-respondent",
   "metadata": {},
   "outputs": [],
   "source": []
  }
 ],
 "metadata": {
  "kernelspec": {
   "display_name": "Python 3",
   "language": "python",
   "name": "python3"
  },
  "language_info": {
   "codemirror_mode": {
    "name": "ipython",
    "version": 3
   },
   "file_extension": ".py",
   "mimetype": "text/x-python",
   "name": "python",
   "nbconvert_exporter": "python",
   "pygments_lexer": "ipython3",
   "version": "3.8.5"
  }
 },
 "nbformat": 4,
 "nbformat_minor": 5
}
